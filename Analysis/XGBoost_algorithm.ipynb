{
  "nbformat": 4,
  "nbformat_minor": 0,
  "metadata": {
    "colab": {
      "name": "XGBoost-algorithm.ipynb",
      "provenance": []
    },
    "kernelspec": {
      "name": "python3",
      "display_name": "Python 3"
    },
    "language_info": {
      "name": "python"
    }
  },
  "cells": [
    {
      "cell_type": "code",
      "execution_count": 24,
      "metadata": {
        "colab": {
          "base_uri": "https://localhost:8080/"
        },
        "id": "7y60pfa02JHb",
        "outputId": "f75f05c1-7f9b-4da8-fac4-1713703bd67b"
      },
      "outputs": [
        {
          "output_type": "stream",
          "name": "stdout",
          "text": [
            "790.3958857591853\n",
            "[59.094353   1.8586352 13.534304  ... 11.585411  13.659517   7.7758417]\n",
            "12.285062000742043\n",
            "[8.794737  6.000505  6.011629  ... 5.5608087 5.7131276 6.8636193]\n",
            "4.770217931267349\n",
            "[2.6506195 2.7792892 2.7792892 ... 3.398477  2.9092612 3.6022935]\n",
            "6.025474931116748\n",
            "[3.5882468 3.7203445 3.1554718 ... 2.5832942 2.0500374 2.7047749]\n",
            "1.2912290992363078\n",
            "[0.6967511 0.9112344 0.5687364 ... 0.570827  0.9112344 0.5687364]\n",
            "1.0643283523976397\n",
            "[0.708461  0.5591215 0.7197373 ... 0.7176547 0.7901602 0.7148603]\n",
            "433.0671773218092\n",
            "[1.4527044 1.9853224 1.2994084 ... 1.2857194 1.4143779 1.2885499]\n",
            "0.683132517674208\n",
            "[0.79127544 0.8171613  0.8171613  ... 0.8171613  0.86525726 0.66180897]\n",
            "167.06479595791689\n",
            "[7.136099  2.7967682 2.8107717 ... 2.6019745 2.6019745 6.666811 ]\n"
          ]
        }
      ],
      "source": [
        "import xgboost as xgb\n",
        "from sklearn.metrics import mean_squared_error\n",
        "import pandas as pd\n",
        "from sklearn.model_selection import train_test_split\n",
        "import numpy as np\n",
        "import top10Dapps\n",
        "\n",
        "dapps = top10Dapps.top_10_dapps\n",
        "\n",
        "for dapp in dapps:\n",
        "  df = pd.read_csv('/content/'+dapp+'.csv')\n",
        "  trainDF, testDF = train_test_split(df, test_size=0.2, random_state=42, shuffle=True)\n",
        "\n",
        "  y_train = trainDF['last_sale_price']\n",
        "  X_train = trainDF.drop(columns=['last_sale_price','TOKEN_ID'])\n",
        "\n",
        "  y_test = testDF['last_sale_price']\n",
        "  X_test = testDF.drop(columns=['last_sale_price','TOKEN_ID'])\n",
        "\n",
        "  data_dmatrix = xgb.DMatrix(data=X_train, label=y_train)\n",
        "  params = {\"objective\":'reg:squarederror', \"colsample_bytree\":0.2, \"learning_rate\":0.009, \"max_depth\":20, \"alpha\":16}\n",
        "  xg_m = xgb.train(params=params, dtrain=data_dmatrix, num_boost_round=100)\n",
        "\n",
        "  data_dmatrix_test = xgb.DMatrix(data=X_test)\n",
        "  preds = xg_m.predict(data_dmatrix_test)\n",
        "\n",
        "  #print(dapp)\n",
        "  print(np.sqrt(mean_squared_error(preds, y_test)))\n",
        "\n",
        "  print(preds)\n",
        "  newDF = df[['rarity','counts']]\n",
        "  data_dmatrix_test = xgb.DMatrix(data=newDF)\n",
        "\n",
        "  predPrice = xg_m.predict(data_dmatrix_test)\n",
        "  df['predicted_price'] = predPrice\n",
        "\n",
        "  df.to_csv('/content/predicted/' + dapp +'.csv')\n",
        "\n",
        "    "
      ]
    }
  ]
}